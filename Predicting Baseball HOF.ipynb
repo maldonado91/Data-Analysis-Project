{
 "cells": [
  {
   "cell_type": "markdown",
   "id": "40594d4c-4d81-458b-9183-6672918442bc",
   "metadata": {},
   "source": [
    "# Predicting the Baseball Hall of Fame"
   ]
  },
  {
   "cell_type": "code",
   "execution_count": null,
   "id": "d71a2fa3-7210-4fb3-929f-adaaa1f2c022",
   "metadata": {},
   "outputs": [],
   "source": []
  },
  {
   "cell_type": "code",
   "execution_count": null,
   "id": "23a6c7a8-c43d-4405-96ac-cc74f5d3a59c",
   "metadata": {},
   "outputs": [],
   "source": [
    "# Initial imports\n",
    "import pandas as pd\n",
    "from path import Path\n",
    "from sklearn import tree\n",
    "from sklearn.preprocessing import StandardScaler\n",
    "from sklearn.model_selection import train_test_split\n",
    "from sklearn.metrics import confusion_matrix, accuracy_score, classification_report\n",
    "import numpy as np"
   ]
  }
 ],
 "metadata": {
  "kernelspec": {
   "display_name": "mlenv",
   "language": "python",
   "name": "mlenv"
  },
  "language_info": {
   "codemirror_mode": {
    "name": "ipython",
    "version": 3
   },
   "file_extension": ".py",
   "mimetype": "text/x-python",
   "name": "python",
   "nbconvert_exporter": "python",
   "pygments_lexer": "ipython3",
   "version": "3.7.11"
  }
 },
 "nbformat": 4,
 "nbformat_minor": 5
}
