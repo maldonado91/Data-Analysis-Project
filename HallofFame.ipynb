{
 "cells": [
  {
   "cell_type": "code",
   "execution_count": 63,
   "id": "f22ba447-3c16-4831-ae20-8c86e21007aa",
   "metadata": {},
   "outputs": [
    {
     "data": {
      "text/html": [
       "<div>\n",
       "<style scoped>\n",
       "    .dataframe tbody tr th:only-of-type {\n",
       "        vertical-align: middle;\n",
       "    }\n",
       "\n",
       "    .dataframe tbody tr th {\n",
       "        vertical-align: top;\n",
       "    }\n",
       "\n",
       "    .dataframe thead th {\n",
       "        text-align: right;\n",
       "    }\n",
       "</style>\n",
       "<table border=\"1\" class=\"dataframe\">\n",
       "  <thead>\n",
       "    <tr style=\"text-align: right;\">\n",
       "      <th></th>\n",
       "      <th>yearID</th>\n",
       "      <th>votedBy</th>\n",
       "      <th>ballots</th>\n",
       "      <th>needed</th>\n",
       "      <th>votes</th>\n",
       "      <th>inducted</th>\n",
       "      <th>category</th>\n",
       "      <th>needed_note</th>\n",
       "    </tr>\n",
       "    <tr>\n",
       "      <th>playerID</th>\n",
       "      <th></th>\n",
       "      <th></th>\n",
       "      <th></th>\n",
       "      <th></th>\n",
       "      <th></th>\n",
       "      <th></th>\n",
       "      <th></th>\n",
       "      <th></th>\n",
       "    </tr>\n",
       "  </thead>\n",
       "  <tbody>\n",
       "    <tr>\n",
       "      <th>cobbty01</th>\n",
       "      <td>1936</td>\n",
       "      <td>BBWAA</td>\n",
       "      <td>226.0</td>\n",
       "      <td>170.0</td>\n",
       "      <td>222.0</td>\n",
       "      <td>Y</td>\n",
       "      <td>Player</td>\n",
       "      <td>NaN</td>\n",
       "    </tr>\n",
       "    <tr>\n",
       "      <th>ruthba01</th>\n",
       "      <td>1936</td>\n",
       "      <td>BBWAA</td>\n",
       "      <td>226.0</td>\n",
       "      <td>170.0</td>\n",
       "      <td>215.0</td>\n",
       "      <td>Y</td>\n",
       "      <td>Player</td>\n",
       "      <td>NaN</td>\n",
       "    </tr>\n",
       "    <tr>\n",
       "      <th>wagneho01</th>\n",
       "      <td>1936</td>\n",
       "      <td>BBWAA</td>\n",
       "      <td>226.0</td>\n",
       "      <td>170.0</td>\n",
       "      <td>215.0</td>\n",
       "      <td>Y</td>\n",
       "      <td>Player</td>\n",
       "      <td>NaN</td>\n",
       "    </tr>\n",
       "    <tr>\n",
       "      <th>mathech01</th>\n",
       "      <td>1936</td>\n",
       "      <td>BBWAA</td>\n",
       "      <td>226.0</td>\n",
       "      <td>170.0</td>\n",
       "      <td>205.0</td>\n",
       "      <td>Y</td>\n",
       "      <td>Player</td>\n",
       "      <td>NaN</td>\n",
       "    </tr>\n",
       "    <tr>\n",
       "      <th>johnswa01</th>\n",
       "      <td>1936</td>\n",
       "      <td>BBWAA</td>\n",
       "      <td>226.0</td>\n",
       "      <td>170.0</td>\n",
       "      <td>189.0</td>\n",
       "      <td>Y</td>\n",
       "      <td>Player</td>\n",
       "      <td>NaN</td>\n",
       "    </tr>\n",
       "  </tbody>\n",
       "</table>\n",
       "</div>"
      ],
      "text/plain": [
       "           yearID votedBy  ballots  needed  votes inducted category  \\\n",
       "playerID                                                              \n",
       "cobbty01     1936   BBWAA    226.0   170.0  222.0        Y   Player   \n",
       "ruthba01     1936   BBWAA    226.0   170.0  215.0        Y   Player   \n",
       "wagneho01    1936   BBWAA    226.0   170.0  215.0        Y   Player   \n",
       "mathech01    1936   BBWAA    226.0   170.0  205.0        Y   Player   \n",
       "johnswa01    1936   BBWAA    226.0   170.0  189.0        Y   Player   \n",
       "\n",
       "          needed_note  \n",
       "playerID               \n",
       "cobbty01          NaN  \n",
       "ruthba01          NaN  \n",
       "wagneho01         NaN  \n",
       "mathech01         NaN  \n",
       "johnswa01         NaN  "
      ]
     },
     "execution_count": 63,
     "metadata": {},
     "output_type": "execute_result"
    }
   ],
   "source": [
    "import numpy as np\n",
    "import pandas as pd\n",
    "from pathlib import Path\n",
    "from collections import Counter\n",
    "\n",
    "from sklearn.metrics import balanced_accuracy_score\n",
    "from sklearn.metrics import confusion_matrix\n",
    "from imblearn.metrics import classification_report_imbalanced\n",
    "from sklearn.model_selection import train_test_split\n",
    "from imblearn.ensemble import BalancedRandomForestClassifier\n",
    "from sklearn.preprocessing import StandardScaler, MinMaxScaler\n",
    "\n",
    "file_path = Path(\"./baseballdatabank-2022.2/baseballdatabank-2022.2/contrib/HallOfFame.csv\")\n",
    "hof_df = pd.read_csv(file_path, index_col = 0)\n",
    "hof_df.head()"
   ]
  },
  {
   "cell_type": "code",
   "execution_count": 64,
   "id": "eaf919b4-d94c-4dd4-9a95-c72ef48b2f71",
   "metadata": {},
   "outputs": [
    {
     "data": {
      "text/plain": [
       "yearID          80\n",
       "votedBy          9\n",
       "ballots         74\n",
       "needed          65\n",
       "votes          367\n",
       "inducted         2\n",
       "category         4\n",
       "needed_note      2\n",
       "dtype: int64"
      ]
     },
     "execution_count": 64,
     "metadata": {},
     "output_type": "execute_result"
    }
   ],
   "source": [
    "# Determine the number of unique values in each column.\n",
    "hof_df.nunique()"
   ]
  },
  {
   "cell_type": "code",
   "execution_count": 65,
   "id": "e46d70e8-7134-4162-aa17-7bf844424ae0",
   "metadata": {},
   "outputs": [
    {
     "data": {
      "text/plain": [
       "yearID           int64\n",
       "votedBy         object\n",
       "ballots        float64\n",
       "needed         float64\n",
       "votes          float64\n",
       "inducted        object\n",
       "category        object\n",
       "needed_note     object\n",
       "dtype: object"
      ]
     },
     "execution_count": 65,
     "metadata": {},
     "output_type": "execute_result"
    }
   ],
   "source": [
    "hof_df.dtypes"
   ]
  },
  {
   "cell_type": "code",
   "execution_count": 66,
   "id": "86702e32-cb14-4bce-b09b-a64818498030",
   "metadata": {},
   "outputs": [
    {
     "name": "stdout",
     "output_type": "stream",
     "text": [
      "Column yearID has 0 null values\n",
      "Column votedBy has 0 null values\n",
      "Column ballots has 197 null values\n",
      "Column needed has 354 null values\n",
      "Column votes has 197 null values\n",
      "Column inducted has 0 null values\n",
      "Column category has 0 null values\n",
      "Column needed_note has 4034 null values\n"
     ]
    }
   ],
   "source": [
    "# Search for rows that have at least 1 null value.\n",
    "for column in hof_df.columns:\n",
    "    print(f\"Column {column} has {hof_df[column].isnull().sum()} null values\")"
   ]
  },
  {
   "cell_type": "code",
   "execution_count": 67,
   "id": "3e0bfe67-bd4b-4480-9476-f0b53e1d89a4",
   "metadata": {},
   "outputs": [],
   "source": [
    "# drop rows not containing players\n",
    "hof_df = hof_df[hof_df['category'].str.contains('Player')==True]"
   ]
  },
  {
   "cell_type": "code",
   "execution_count": 69,
   "id": "14bc4936-a56f-4460-9144-1f3e485202f0",
   "metadata": {},
   "outputs": [
    {
     "data": {
      "text/html": [
       "<div>\n",
       "<style scoped>\n",
       "    .dataframe tbody tr th:only-of-type {\n",
       "        vertical-align: middle;\n",
       "    }\n",
       "\n",
       "    .dataframe tbody tr th {\n",
       "        vertical-align: top;\n",
       "    }\n",
       "\n",
       "    .dataframe thead th {\n",
       "        text-align: right;\n",
       "    }\n",
       "</style>\n",
       "<table border=\"1\" class=\"dataframe\">\n",
       "  <thead>\n",
       "    <tr style=\"text-align: right;\">\n",
       "      <th></th>\n",
       "      <th>yearID</th>\n",
       "      <th>votedBy</th>\n",
       "      <th>inducted</th>\n",
       "    </tr>\n",
       "    <tr>\n",
       "      <th>playerID</th>\n",
       "      <th></th>\n",
       "      <th></th>\n",
       "      <th></th>\n",
       "    </tr>\n",
       "  </thead>\n",
       "  <tbody>\n",
       "    <tr>\n",
       "      <th>cobbty01</th>\n",
       "      <td>1936</td>\n",
       "      <td>BBWAA</td>\n",
       "      <td>Y</td>\n",
       "    </tr>\n",
       "    <tr>\n",
       "      <th>ruthba01</th>\n",
       "      <td>1936</td>\n",
       "      <td>BBWAA</td>\n",
       "      <td>Y</td>\n",
       "    </tr>\n",
       "    <tr>\n",
       "      <th>wagneho01</th>\n",
       "      <td>1936</td>\n",
       "      <td>BBWAA</td>\n",
       "      <td>Y</td>\n",
       "    </tr>\n",
       "    <tr>\n",
       "      <th>mathech01</th>\n",
       "      <td>1936</td>\n",
       "      <td>BBWAA</td>\n",
       "      <td>Y</td>\n",
       "    </tr>\n",
       "    <tr>\n",
       "      <th>johnswa01</th>\n",
       "      <td>1936</td>\n",
       "      <td>BBWAA</td>\n",
       "      <td>Y</td>\n",
       "    </tr>\n",
       "  </tbody>\n",
       "</table>\n",
       "</div>"
      ],
      "text/plain": [
       "           yearID votedBy inducted\n",
       "playerID                          \n",
       "cobbty01     1936   BBWAA        Y\n",
       "ruthba01     1936   BBWAA        Y\n",
       "wagneho01    1936   BBWAA        Y\n",
       "mathech01    1936   BBWAA        Y\n",
       "johnswa01    1936   BBWAA        Y"
      ]
     },
     "execution_count": 69,
     "metadata": {},
     "output_type": "execute_result"
    }
   ],
   "source": [
    "# Drop the 'needed_note', 'ballots', 'needed', 'votes' column since it's not going to be used on the clustering algorithm.\n",
    "hof_df.drop(columns=['needed_note', 'ballots', 'needed', 'votes', 'category'], inplace=True)\n",
    "hof_df.head()"
   ]
  },
  {
   "cell_type": "code",
   "execution_count": 71,
   "id": "24be3834-1efc-4218-98d9-d5f892bd1316",
   "metadata": {},
   "outputs": [
    {
     "data": {
      "text/html": [
       "<div>\n",
       "<style scoped>\n",
       "    .dataframe tbody tr th:only-of-type {\n",
       "        vertical-align: middle;\n",
       "    }\n",
       "\n",
       "    .dataframe tbody tr th {\n",
       "        vertical-align: top;\n",
       "    }\n",
       "\n",
       "    .dataframe thead th {\n",
       "        text-align: right;\n",
       "    }\n",
       "</style>\n",
       "<table border=\"1\" class=\"dataframe\">\n",
       "  <thead>\n",
       "    <tr style=\"text-align: right;\">\n",
       "      <th></th>\n",
       "      <th>yearID</th>\n",
       "      <th>inducted</th>\n",
       "      <th>votedBy_BBWAA</th>\n",
       "      <th>votedBy_Final Ballot</th>\n",
       "      <th>votedBy_Negro League</th>\n",
       "      <th>votedBy_Nominating Vote</th>\n",
       "      <th>votedBy_Old Timers</th>\n",
       "      <th>votedBy_Run Off</th>\n",
       "      <th>votedBy_Special Election</th>\n",
       "      <th>votedBy_Veterans</th>\n",
       "    </tr>\n",
       "    <tr>\n",
       "      <th>playerID</th>\n",
       "      <th></th>\n",
       "      <th></th>\n",
       "      <th></th>\n",
       "      <th></th>\n",
       "      <th></th>\n",
       "      <th></th>\n",
       "      <th></th>\n",
       "      <th></th>\n",
       "      <th></th>\n",
       "      <th></th>\n",
       "    </tr>\n",
       "  </thead>\n",
       "  <tbody>\n",
       "    <tr>\n",
       "      <th>cobbty01</th>\n",
       "      <td>1936</td>\n",
       "      <td>Y</td>\n",
       "      <td>1</td>\n",
       "      <td>0</td>\n",
       "      <td>0</td>\n",
       "      <td>0</td>\n",
       "      <td>0</td>\n",
       "      <td>0</td>\n",
       "      <td>0</td>\n",
       "      <td>0</td>\n",
       "    </tr>\n",
       "    <tr>\n",
       "      <th>ruthba01</th>\n",
       "      <td>1936</td>\n",
       "      <td>Y</td>\n",
       "      <td>1</td>\n",
       "      <td>0</td>\n",
       "      <td>0</td>\n",
       "      <td>0</td>\n",
       "      <td>0</td>\n",
       "      <td>0</td>\n",
       "      <td>0</td>\n",
       "      <td>0</td>\n",
       "    </tr>\n",
       "    <tr>\n",
       "      <th>wagneho01</th>\n",
       "      <td>1936</td>\n",
       "      <td>Y</td>\n",
       "      <td>1</td>\n",
       "      <td>0</td>\n",
       "      <td>0</td>\n",
       "      <td>0</td>\n",
       "      <td>0</td>\n",
       "      <td>0</td>\n",
       "      <td>0</td>\n",
       "      <td>0</td>\n",
       "    </tr>\n",
       "    <tr>\n",
       "      <th>mathech01</th>\n",
       "      <td>1936</td>\n",
       "      <td>Y</td>\n",
       "      <td>1</td>\n",
       "      <td>0</td>\n",
       "      <td>0</td>\n",
       "      <td>0</td>\n",
       "      <td>0</td>\n",
       "      <td>0</td>\n",
       "      <td>0</td>\n",
       "      <td>0</td>\n",
       "    </tr>\n",
       "    <tr>\n",
       "      <th>johnswa01</th>\n",
       "      <td>1936</td>\n",
       "      <td>Y</td>\n",
       "      <td>1</td>\n",
       "      <td>0</td>\n",
       "      <td>0</td>\n",
       "      <td>0</td>\n",
       "      <td>0</td>\n",
       "      <td>0</td>\n",
       "      <td>0</td>\n",
       "      <td>0</td>\n",
       "    </tr>\n",
       "  </tbody>\n",
       "</table>\n",
       "</div>"
      ],
      "text/plain": [
       "           yearID inducted  votedBy_BBWAA  votedBy_Final Ballot  \\\n",
       "playerID                                                          \n",
       "cobbty01     1936        Y              1                     0   \n",
       "ruthba01     1936        Y              1                     0   \n",
       "wagneho01    1936        Y              1                     0   \n",
       "mathech01    1936        Y              1                     0   \n",
       "johnswa01    1936        Y              1                     0   \n",
       "\n",
       "           votedBy_Negro League  votedBy_Nominating Vote  votedBy_Old Timers  \\\n",
       "playerID                                                                       \n",
       "cobbty01                      0                        0                   0   \n",
       "ruthba01                      0                        0                   0   \n",
       "wagneho01                     0                        0                   0   \n",
       "mathech01                     0                        0                   0   \n",
       "johnswa01                     0                        0                   0   \n",
       "\n",
       "           votedBy_Run Off  votedBy_Special Election  votedBy_Veterans  \n",
       "playerID                                                                \n",
       "cobbty01                 0                         0                 0  \n",
       "ruthba01                 0                         0                 0  \n",
       "wagneho01                0                         0                 0  \n",
       "mathech01                0                         0                 0  \n",
       "johnswa01                0                         0                 0  "
      ]
     },
     "execution_count": 71,
     "metadata": {},
     "output_type": "execute_result"
    }
   ],
   "source": [
    "hof_binary_encoded = pd.get_dummies(hof_df, columns=[\"votedBy\"])\n",
    "hof_binary_encoded.head()"
   ]
  },
  {
   "cell_type": "code",
   "execution_count": 72,
   "id": "d0fdac06-f0e0-4a0a-9380-cecc20f34cc2",
   "metadata": {},
   "outputs": [],
   "source": [
    "# Create our features\n",
    "X = hof_df.drop('inducted', axis = 1)\n",
    "X = pd.get_dummies(X)\n",
    "\n",
    "# Create our target\n",
    "y = hof_df['inducted']"
   ]
  },
  {
   "cell_type": "code",
   "execution_count": 73,
   "id": "b32a9c6e-fb66-4779-ace5-e6b9d568c850",
   "metadata": {},
   "outputs": [
    {
     "data": {
      "text/html": [
       "<div>\n",
       "<style scoped>\n",
       "    .dataframe tbody tr th:only-of-type {\n",
       "        vertical-align: middle;\n",
       "    }\n",
       "\n",
       "    .dataframe tbody tr th {\n",
       "        vertical-align: top;\n",
       "    }\n",
       "\n",
       "    .dataframe thead th {\n",
       "        text-align: right;\n",
       "    }\n",
       "</style>\n",
       "<table border=\"1\" class=\"dataframe\">\n",
       "  <thead>\n",
       "    <tr style=\"text-align: right;\">\n",
       "      <th></th>\n",
       "      <th>yearID</th>\n",
       "      <th>votedBy_BBWAA</th>\n",
       "      <th>votedBy_Final Ballot</th>\n",
       "      <th>votedBy_Negro League</th>\n",
       "      <th>votedBy_Nominating Vote</th>\n",
       "      <th>votedBy_Old Timers</th>\n",
       "      <th>votedBy_Run Off</th>\n",
       "      <th>votedBy_Special Election</th>\n",
       "      <th>votedBy_Veterans</th>\n",
       "    </tr>\n",
       "  </thead>\n",
       "  <tbody>\n",
       "    <tr>\n",
       "      <th>count</th>\n",
       "      <td>4066.000000</td>\n",
       "      <td>4066.000000</td>\n",
       "      <td>4066.000000</td>\n",
       "      <td>4066.000000</td>\n",
       "      <td>4066.000000</td>\n",
       "      <td>4066.000000</td>\n",
       "      <td>4066.000000</td>\n",
       "      <td>4066.000000</td>\n",
       "      <td>4066.000000</td>\n",
       "    </tr>\n",
       "    <tr>\n",
       "      <th>mean</th>\n",
       "      <td>1969.838908</td>\n",
       "      <td>0.909493</td>\n",
       "      <td>0.005165</td>\n",
       "      <td>0.005165</td>\n",
       "      <td>0.018692</td>\n",
       "      <td>0.006149</td>\n",
       "      <td>0.019921</td>\n",
       "      <td>0.000492</td>\n",
       "      <td>0.034924</td>\n",
       "    </tr>\n",
       "    <tr>\n",
       "      <th>std</th>\n",
       "      <td>23.469849</td>\n",
       "      <td>0.286942</td>\n",
       "      <td>0.071689</td>\n",
       "      <td>0.071689</td>\n",
       "      <td>0.135450</td>\n",
       "      <td>0.078181</td>\n",
       "      <td>0.139747</td>\n",
       "      <td>0.022176</td>\n",
       "      <td>0.183609</td>\n",
       "    </tr>\n",
       "    <tr>\n",
       "      <th>min</th>\n",
       "      <td>1936.000000</td>\n",
       "      <td>0.000000</td>\n",
       "      <td>0.000000</td>\n",
       "      <td>0.000000</td>\n",
       "      <td>0.000000</td>\n",
       "      <td>0.000000</td>\n",
       "      <td>0.000000</td>\n",
       "      <td>0.000000</td>\n",
       "      <td>0.000000</td>\n",
       "    </tr>\n",
       "    <tr>\n",
       "      <th>25%</th>\n",
       "      <td>1950.000000</td>\n",
       "      <td>1.000000</td>\n",
       "      <td>0.000000</td>\n",
       "      <td>0.000000</td>\n",
       "      <td>0.000000</td>\n",
       "      <td>0.000000</td>\n",
       "      <td>0.000000</td>\n",
       "      <td>0.000000</td>\n",
       "      <td>0.000000</td>\n",
       "    </tr>\n",
       "    <tr>\n",
       "      <th>50%</th>\n",
       "      <td>1966.000000</td>\n",
       "      <td>1.000000</td>\n",
       "      <td>0.000000</td>\n",
       "      <td>0.000000</td>\n",
       "      <td>0.000000</td>\n",
       "      <td>0.000000</td>\n",
       "      <td>0.000000</td>\n",
       "      <td>0.000000</td>\n",
       "      <td>0.000000</td>\n",
       "    </tr>\n",
       "    <tr>\n",
       "      <th>75%</th>\n",
       "      <td>1988.750000</td>\n",
       "      <td>1.000000</td>\n",
       "      <td>0.000000</td>\n",
       "      <td>0.000000</td>\n",
       "      <td>0.000000</td>\n",
       "      <td>0.000000</td>\n",
       "      <td>0.000000</td>\n",
       "      <td>0.000000</td>\n",
       "      <td>0.000000</td>\n",
       "    </tr>\n",
       "    <tr>\n",
       "      <th>max</th>\n",
       "      <td>2018.000000</td>\n",
       "      <td>1.000000</td>\n",
       "      <td>1.000000</td>\n",
       "      <td>1.000000</td>\n",
       "      <td>1.000000</td>\n",
       "      <td>1.000000</td>\n",
       "      <td>1.000000</td>\n",
       "      <td>1.000000</td>\n",
       "      <td>1.000000</td>\n",
       "    </tr>\n",
       "  </tbody>\n",
       "</table>\n",
       "</div>"
      ],
      "text/plain": [
       "            yearID  votedBy_BBWAA  votedBy_Final Ballot  votedBy_Negro League  \\\n",
       "count  4066.000000    4066.000000           4066.000000           4066.000000   \n",
       "mean   1969.838908       0.909493              0.005165              0.005165   \n",
       "std      23.469849       0.286942              0.071689              0.071689   \n",
       "min    1936.000000       0.000000              0.000000              0.000000   \n",
       "25%    1950.000000       1.000000              0.000000              0.000000   \n",
       "50%    1966.000000       1.000000              0.000000              0.000000   \n",
       "75%    1988.750000       1.000000              0.000000              0.000000   \n",
       "max    2018.000000       1.000000              1.000000              1.000000   \n",
       "\n",
       "       votedBy_Nominating Vote  votedBy_Old Timers  votedBy_Run Off  \\\n",
       "count              4066.000000         4066.000000      4066.000000   \n",
       "mean                  0.018692            0.006149         0.019921   \n",
       "std                   0.135450            0.078181         0.139747   \n",
       "min                   0.000000            0.000000         0.000000   \n",
       "25%                   0.000000            0.000000         0.000000   \n",
       "50%                   0.000000            0.000000         0.000000   \n",
       "75%                   0.000000            0.000000         0.000000   \n",
       "max                   1.000000            1.000000         1.000000   \n",
       "\n",
       "       votedBy_Special Election  votedBy_Veterans  \n",
       "count               4066.000000       4066.000000  \n",
       "mean                   0.000492          0.034924  \n",
       "std                    0.022176          0.183609  \n",
       "min                    0.000000          0.000000  \n",
       "25%                    0.000000          0.000000  \n",
       "50%                    0.000000          0.000000  \n",
       "75%                    0.000000          0.000000  \n",
       "max                    1.000000          1.000000  "
      ]
     },
     "execution_count": 73,
     "metadata": {},
     "output_type": "execute_result"
    }
   ],
   "source": [
    "X.describe()"
   ]
  },
  {
   "cell_type": "code",
   "execution_count": 74,
   "id": "731c5681-1c3f-49b1-81bd-44e86297f503",
   "metadata": {},
   "outputs": [
    {
     "data": {
      "text/plain": [
       "N    3810\n",
       "Y     256\n",
       "Name: inducted, dtype: int64"
      ]
     },
     "execution_count": 74,
     "metadata": {},
     "output_type": "execute_result"
    }
   ],
   "source": [
    "# Check the balance of our target values\n",
    "y.value_counts()"
   ]
  },
  {
   "cell_type": "code",
   "execution_count": 75,
   "id": "3fa1f0bf-4a96-4f5a-a90e-2c141407dd6c",
   "metadata": {},
   "outputs": [],
   "source": [
    "# Split data into training and testing\n",
    "X_train, X_test, y_train, y_test = train_test_split(X, y, random_state=1, stratify=y)"
   ]
  },
  {
   "cell_type": "code",
   "execution_count": 76,
   "id": "de5402da-0200-4f50-94f4-848fd37a16d3",
   "metadata": {},
   "outputs": [],
   "source": [
    "# Resample the training data with the BalancedRandomForestClassifier\n",
    "resample = BalancedRandomForestClassifier(n_estimators=100, random_state = 1)\n",
    "resample = resample.fit(X_train, y_train)"
   ]
  },
  {
   "cell_type": "code",
   "execution_count": 77,
   "id": "e16698e3-9a2a-4175-8eaa-5baa55ca6694",
   "metadata": {},
   "outputs": [
    {
     "data": {
      "text/plain": [
       "0.6709568467995803"
      ]
     },
     "execution_count": 77,
     "metadata": {},
     "output_type": "execute_result"
    }
   ],
   "source": [
    "# Calculated the balanced accuracy score\n",
    "y_pred = resample.predict(X_test)\n",
    "balanced_accuracy_score(y_test, y_pred)"
   ]
  },
  {
   "cell_type": "code",
   "execution_count": 78,
   "id": "2c93f952-106b-48a1-9b8b-d430920c84ff",
   "metadata": {},
   "outputs": [
    {
     "name": "stdout",
     "output_type": "stream",
     "text": [
      "[[713 240]\n",
      " [ 26  38]]\n"
     ]
    }
   ],
   "source": [
    "# Display the confusion matrix\n",
    "matrix = confusion_matrix(y_test, y_pred)\n",
    "print(matrix)"
   ]
  },
  {
   "cell_type": "code",
   "execution_count": 79,
   "id": "736b23ae-cd36-4e70-bf5e-71806de1d102",
   "metadata": {},
   "outputs": [
    {
     "name": "stdout",
     "output_type": "stream",
     "text": [
      "                   pre       rec       spe        f1       geo       iba       sup\n",
      "\n",
      "          N       0.96      0.75      0.59      0.84      0.67      0.45       953\n",
      "          Y       0.14      0.59      0.75      0.22      0.67      0.44        64\n",
      "\n",
      "avg / total       0.91      0.74      0.60      0.80      0.67      0.45      1017\n",
      "\n"
     ]
    }
   ],
   "source": [
    "# Print the imbalanced classification report\n",
    "print(classification_report_imbalanced(y_test, y_pred))"
   ]
  },
  {
   "cell_type": "code",
   "execution_count": 80,
   "id": "7cadd4c0-df15-4c92-894c-2183ca239fa0",
   "metadata": {},
   "outputs": [
    {
     "data": {
      "text/plain": [
       "[(0.5134358573110234, 'yearID'),\n",
       " (0.22956882719062563, 'votedBy_BBWAA'),\n",
       " (0.11693640103260988, 'votedBy_Veterans'),\n",
       " (0.05220595371748306, 'votedBy_Old Timers'),\n",
       " (0.03835505740110181, 'votedBy_Negro League'),\n",
       " (0.02539939481312574, 'votedBy_Nominating Vote'),\n",
       " (0.01538848019693516, 'votedBy_Run Off'),\n",
       " (0.004759766721590816, 'votedBy_Final Ballot'),\n",
       " (0.003950261615504491, 'votedBy_Special Election')]"
      ]
     },
     "execution_count": 80,
     "metadata": {},
     "output_type": "execute_result"
    }
   ],
   "source": [
    "# List the features sorted in descending order by feature importance\n",
    "feature = sorted(zip(resample.feature_importances_, X.columns), reverse=True)\n",
    "feature"
   ]
  },
  {
   "cell_type": "code",
   "execution_count": null,
   "id": "55304722-63ac-401a-bfe4-bf09cfe37c18",
   "metadata": {},
   "outputs": [],
   "source": []
  }
 ],
 "metadata": {
  "kernelspec": {
   "display_name": "mlenv",
   "language": "python",
   "name": "mlenv"
  },
  "language_info": {
   "codemirror_mode": {
    "name": "ipython",
    "version": 3
   },
   "file_extension": ".py",
   "mimetype": "text/x-python",
   "name": "python",
   "nbconvert_exporter": "python",
   "pygments_lexer": "ipython3",
   "version": "3.7.11"
  }
 },
 "nbformat": 4,
 "nbformat_minor": 5
}
